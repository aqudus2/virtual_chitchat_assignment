{
 "cells": [
  {
   "cell_type": "code",
   "execution_count": 2,
   "id": "d828f294-d050-4d61-922d-93540e96ac6c",
   "metadata": {
    "tags": []
   },
   "outputs": [
    {
     "data": {
      "text/plain": [
       "(581012, 54)"
      ]
     },
     "execution_count": 2,
     "metadata": {},
     "output_type": "execute_result"
    }
   ],
   "source": [
    "from sklearn.datasets import fetch_covtype\n",
    "from sklearn.model_selection import train_test_split\n",
    "from sklearn.metrics import classification_report, accuracy_score\n",
    "from sklearn.ensemble import RandomForestClassifier\n",
    "cov_type = fetch_covtype()\n",
    "cov_type.data.shape"
   ]
  },
  {
   "cell_type": "code",
   "execution_count": 4,
   "id": "3d214ec8-1bda-481a-bb8f-2a3d00933dd3",
   "metadata": {
    "tags": []
   },
   "outputs": [
    {
     "data": {
      "text/plain": [
       "(581012,)"
      ]
     },
     "execution_count": 4,
     "metadata": {},
     "output_type": "execute_result"
    }
   ],
   "source": [
    "cov_type.target.shape"
   ]
  },
  {
   "cell_type": "code",
   "execution_count": 5,
   "id": "4bf6380d-8530-4ce4-97eb-4ac8d4fb4b50",
   "metadata": {
    "tags": []
   },
   "outputs": [
    {
     "data": {
      "text/plain": [
       "array([5, 5, 2, ..., 3, 3, 3])"
      ]
     },
     "execution_count": 5,
     "metadata": {},
     "output_type": "execute_result"
    }
   ],
   "source": [
    "cov_type.target"
   ]
  },
  {
   "cell_type": "code",
   "execution_count": 6,
   "id": "65c77b23-fba5-4dfe-aa7f-5829886ade30",
   "metadata": {
    "tags": []
   },
   "outputs": [
    {
     "data": {
      "text/plain": [
       "['Elevation',\n",
       " 'Aspect',\n",
       " 'Slope',\n",
       " 'Horizontal_Distance_To_Hydrology',\n",
       " 'Vertical_Distance_To_Hydrology',\n",
       " 'Horizontal_Distance_To_Roadways',\n",
       " 'Hillshade_9am',\n",
       " 'Hillshade_Noon',\n",
       " 'Hillshade_3pm',\n",
       " 'Horizontal_Distance_To_Fire_Points',\n",
       " 'Wilderness_Area_0',\n",
       " 'Wilderness_Area_1',\n",
       " 'Wilderness_Area_2',\n",
       " 'Wilderness_Area_3',\n",
       " 'Soil_Type_0',\n",
       " 'Soil_Type_1',\n",
       " 'Soil_Type_2',\n",
       " 'Soil_Type_3',\n",
       " 'Soil_Type_4',\n",
       " 'Soil_Type_5',\n",
       " 'Soil_Type_6',\n",
       " 'Soil_Type_7',\n",
       " 'Soil_Type_8',\n",
       " 'Soil_Type_9',\n",
       " 'Soil_Type_10',\n",
       " 'Soil_Type_11',\n",
       " 'Soil_Type_12',\n",
       " 'Soil_Type_13',\n",
       " 'Soil_Type_14',\n",
       " 'Soil_Type_15',\n",
       " 'Soil_Type_16',\n",
       " 'Soil_Type_17',\n",
       " 'Soil_Type_18',\n",
       " 'Soil_Type_19',\n",
       " 'Soil_Type_20',\n",
       " 'Soil_Type_21',\n",
       " 'Soil_Type_22',\n",
       " 'Soil_Type_23',\n",
       " 'Soil_Type_24',\n",
       " 'Soil_Type_25',\n",
       " 'Soil_Type_26',\n",
       " 'Soil_Type_27',\n",
       " 'Soil_Type_28',\n",
       " 'Soil_Type_29',\n",
       " 'Soil_Type_30',\n",
       " 'Soil_Type_31',\n",
       " 'Soil_Type_32',\n",
       " 'Soil_Type_33',\n",
       " 'Soil_Type_34',\n",
       " 'Soil_Type_35',\n",
       " 'Soil_Type_36',\n",
       " 'Soil_Type_37',\n",
       " 'Soil_Type_38',\n",
       " 'Soil_Type_39']"
      ]
     },
     "execution_count": 6,
     "metadata": {},
     "output_type": "execute_result"
    }
   ],
   "source": [
    "cov_type.feature_names"
   ]
  },
  {
   "cell_type": "code",
   "execution_count": 7,
   "id": "93edc5d6-e319-41a4-a11e-ac5552343356",
   "metadata": {
    "tags": []
   },
   "outputs": [],
   "source": [
    "X = cov_type.data\n",
    "y = cov_type.target\n",
    "\n",
    "X_train, X_test, y_train, y_test = train_test_split(X, y, test_size=0.3, random_state=42)"
   ]
  },
  {
   "cell_type": "code",
   "execution_count": 8,
   "id": "1f99dac8-6929-49b0-a073-84e2587cd816",
   "metadata": {
    "tags": []
   },
   "outputs": [
    {
     "name": "stdout",
     "output_type": "stream",
     "text": [
      "              precision    recall  f1-score   support\n",
      "\n",
      "           1       0.96      0.94      0.95     63556\n",
      "           2       0.95      0.97      0.96     85078\n",
      "           3       0.94      0.96      0.95     10638\n",
      "           4       0.91      0.85      0.88       795\n",
      "           5       0.94      0.75      0.84      2941\n",
      "           6       0.93      0.89      0.91      5227\n",
      "           7       0.97      0.95      0.96      6069\n",
      "\n",
      "    accuracy                           0.95    174304\n",
      "   macro avg       0.94      0.90      0.92    174304\n",
      "weighted avg       0.95      0.95      0.95    174304\n",
      "\n"
     ]
    }
   ],
   "source": [
    "model = RandomForestClassifier(n_estimators=100,random_state=42)\n",
    "model.fit(X_train, y_train)\n",
    "\n",
    "y_pred = model.predict(X_test)\n",
    "print(classification_report(y_test, y_pred))"
   ]
  },
  {
   "cell_type": "code",
   "execution_count": 9,
   "id": "97d413a6-9f14-4fe2-9494-044b3955e9b3",
   "metadata": {},
   "outputs": [
    {
     "data": {
      "text/plain": [
       "0.9516132733614834"
      ]
     },
     "execution_count": 9,
     "metadata": {},
     "output_type": "execute_result"
    }
   ],
   "source": [
    "accuracy_score(y_test, y_pred)"
   ]
  },
  {
   "cell_type": "code",
   "execution_count": null,
   "id": "0cceb968-c0b8-4b44-a432-818b174c3981",
   "metadata": {},
   "outputs": [],
   "source": []
  }
 ],
 "metadata": {
  "kernelspec": {
   "display_name": "Python 3 (ipykernel)",
   "language": "python",
   "name": "python3"
  },
  "language_info": {
   "codemirror_mode": {
    "name": "ipython",
    "version": 3
   },
   "file_extension": ".py",
   "mimetype": "text/x-python",
   "name": "python",
   "nbconvert_exporter": "python",
   "pygments_lexer": "ipython3",
   "version": "3.10.9"
  }
 },
 "nbformat": 4,
 "nbformat_minor": 5
}
